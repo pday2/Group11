{
 "cells": [
  {
   "cell_type": "markdown",
   "id": "faf2e7dc",
   "metadata": {},
   "source": [
    "## Tik Tok"
   ]
  },
  {
   "cell_type": "code",
   "execution_count": 64,
   "id": "c0c3b3ee",
   "metadata": {},
   "outputs": [],
   "source": [
    "import os\n",
    "import numpy as np\n",
    "from py2neo import Graph\n",
    "from py2neo import Node\n",
    "from py2neo import Relationship\n",
    "import pandas as pd\n",
    "import numpy as np\n",
    "# for some nlp secret sauce\n",
    "import nltk\n",
    "from textblob import TextBlob\n",
    "from textblob.sentiments import NaiveBayesAnalyzer\n",
    "from langdetect import detect_langs\n",
    "from langdetect import detect\n",
    "from nltk.sentiment.vader import SentimentIntensityAnalyzer"
   ]
  },
  {
   "cell_type": "code",
   "execution_count": 15,
   "id": "80a82a75",
   "metadata": {},
   "outputs": [
    {
     "name": "stderr",
     "output_type": "stream",
     "text": [
      "[nltk_data] Downloading package vader_lexicon to\n",
      "[nltk_data]     C:\\Users\\peter\\AppData\\Roaming\\nltk_data...\n",
      "[nltk_data]   Package vader_lexicon is already up-to-date!\n"
     ]
    },
    {
     "data": {
      "text/plain": [
       "True"
      ]
     },
     "execution_count": 15,
     "metadata": {},
     "output_type": "execute_result"
    }
   ],
   "source": [
    "# Run the next two lines as needed\n",
    "#nltk.download('vader_lexicon')"
   ]
  },
  {
   "cell_type": "code",
   "execution_count": 19,
   "id": "f23d9a59",
   "metadata": {},
   "outputs": [
    {
     "name": "stderr",
     "output_type": "stream",
     "text": [
      "[nltk_data] Downloading package punkt to\n",
      "[nltk_data]     C:\\Users\\peter\\AppData\\Roaming\\nltk_data...\n",
      "[nltk_data]   Package punkt is already up-to-date!\n"
     ]
    },
    {
     "data": {
      "text/plain": [
       "True"
      ]
     },
     "execution_count": 19,
     "metadata": {},
     "output_type": "execute_result"
    }
   ],
   "source": [
    "#nltk.download('punkt')"
   ]
  },
  {
   "cell_type": "code",
   "execution_count": 21,
   "id": "b7ec33a9",
   "metadata": {},
   "outputs": [],
   "source": [
    "# update bolt port number and password as needed.\n",
    "# in Neo4j, start DB of choice, click on DB name, on right under Details tab note 'Bolt port'\n",
    "# Windows\n",
    "if os.name == 'nt':\n",
    "    graph = Graph(\"bolt://localhost:7687\", password='xxx', name='neo4j')\n",
    "# Linux & Mac\n",
    "if os.name == 'posix':\n",
    "    graph = Graph(\"bolt://localhost:11003\", password='xxx', name='neo4j')"
   ]
  },
  {
   "cell_type": "code",
   "execution_count": 22,
   "id": "24afcd6c",
   "metadata": {},
   "outputs": [
    {
     "data": {
      "text/html": [
       "(No data)"
      ],
      "text/plain": [
       "(No data)"
      ]
     },
     "execution_count": 22,
     "metadata": {},
     "output_type": "execute_result"
    }
   ],
   "source": [
    "# I don't think this needs to be run every time\n",
    "query = \"\"\"\n",
    "CREATE INDEX USRIDX IF NOT EXISTS\n",
    "FOR (n:user)\n",
    "ON (n.id);\n",
    "\"\"\"\n",
    "graph.run(query)"
   ]
  },
  {
   "cell_type": "code",
   "execution_count": 23,
   "id": "b5bde5a4",
   "metadata": {},
   "outputs": [
    {
     "data": {
      "text/html": [
       "<table><tr><th>s</th></tr><tr><td style=\"text-align:left\">(_342470:song {album: &#039;\\u0417\\u0435\\u043c\\u043b\\u044f&#039;, audioURLWithCookie: 0, authorName: &#039;\\u041e\\u043a\\u0435\\u0430\\u043d \\u0415\\u043b\\u044c\\u0437\\u0438&#039;, coverLarge: &#039;https://p16-amd-va.tiktokcdn.com/img/tos-useast2a-v-2774/0e057b52e54948e8a5d6ebc686ef8e3b~c5_720x720.jpeg&#039;, coverMedium: &#039;https://p16-amd-va.tiktokcdn.com/img/tos-useast2a-v-2774/0e057b52e54948e8a5d6ebc686ef8e3b~c5_200x200.jpeg&#039;, coverThumb: &#039;https://p16-amd-va.tiktokcdn.com/img/tos-useast2a-v-2774/0e057b52e54948e8a5d6ebc686ef8e3b~c5_100x100.jpeg&#039;, duration: 60, id: &#039;6718412074684254210&#039;, keyToken: &#039;&#039;, numVids: 19300, original: 0, playUrl: &#039;https://sf16-ies-music-va.tiktokcdn.com/obj/tos-useast2a-ve-2774/76156347b51b4cbaa836c9e444e5872b&#039;, private: 0, scheduleSearchTime: 0, title: &#039;\\u041e\\u0431\\u0456\\u0439\\u043c\\u0438&#039;})</td></tr><tr><td style=\"text-align:left\">(_343278:song {album: &#039;\\u041e\\u0431\\u0456\\u0439\\u043c\\u0438 - Remix&#039;, audioURLWithCookie: 0, authorName: &#039;\\u041e\\u043a\\u0435\\u0430\\u043d \\u0415\\u043b\\u044c\\u0437\\u0438&#039;, coverLarge: &#039;https://p16-amd-va.tiktokcdn.com/img/tos-useast2a-v-2774/60a559e85efd4e40877e660f651efdfd~c5_720x720.jpeg&#039;, coverMedium: &#039;https://p16-amd-va.tiktokcdn.com/img/tos-useast2a-v-2774/60a559e85efd4e40877e660f651efdfd~c5_200x200.jpeg&#039;, coverThumb: &#039;https://p16-amd-va.tiktokcdn.com/img/tos-useast2a-v-2774/60a559e85efd4e40877e660f651efdfd~c5_100x100.jpeg&#039;, duration: 60, id: &#039;6899164801193216002&#039;, keyToken: &#039;&#039;, numVids: &#039;6733&#039;, original: 0, playUrl: &#039;https://sf16-ies-music-va.tiktokcdn.com/obj/tos-useast2a-ve-2774/f2e8a7defbd44b08858d6c6d04eefc97&#039;, private: 0, scheduleSearchTime: 0, title: &#039;\\u041e\\u0431\\u0456\\u0439\\u043c\\u0438 - Remix&#039;})</td></tr></table>"
      ],
      "text/plain": [
       " s                                                                                                                                                                                                                                                                                                                                                                                                                                                                                                                                                                                                                                                                                                                                                                                                                                                   \n",
       "-----------------------------------------------------------------------------------------------------------------------------------------------------------------------------------------------------------------------------------------------------------------------------------------------------------------------------------------------------------------------------------------------------------------------------------------------------------------------------------------------------------------------------------------------------------------------------------------------------------------------------------------------------------------------------------------------------------------------------------------------------------------------------------------------------------------------------------------------------\n",
       " (_342470:song {album: '\\u0417\\u0435\\u043c\\u043b\\u044f', audioURLWithCookie: 0, authorName: '\\u041e\\u043a\\u0435\\u0430\\u043d \\u0415\\u043b\\u044c\\u0437\\u0438', coverLarge: 'https://p16-amd-va.tiktokcdn.com/img/tos-useast2a-v-2774/0e057b52e54948e8a5d6ebc686ef8e3b~c5_720x720.jpeg', coverMedium: 'https://p16-amd-va.tiktokcdn.com/img/tos-useast2a-v-2774/0e057b52e54948e8a5d6ebc686ef8e3b~c5_200x200.jpeg', coverThumb: 'https://p16-amd-va.tiktokcdn.com/img/tos-useast2a-v-2774/0e057b52e54948e8a5d6ebc686ef8e3b~c5_100x100.jpeg', duration: 60, id: '6718412074684254210', keyToken: '', numVids: 19300, original: 0, playUrl: 'https://sf16-ies-music-va.tiktokcdn.com/obj/tos-useast2a-ve-2774/76156347b51b4cbaa836c9e444e5872b', private: 0, scheduleSearchTime: 0, title: '\\u041e\\u0431\\u0456\\u0439\\u043c\\u0438'})                        \n",
       " (_343278:song {album: '\\u041e\\u0431\\u0456\\u0439\\u043c\\u0438 - Remix', audioURLWithCookie: 0, authorName: '\\u041e\\u043a\\u0435\\u0430\\u043d \\u0415\\u043b\\u044c\\u0437\\u0438', coverLarge: 'https://p16-amd-va.tiktokcdn.com/img/tos-useast2a-v-2774/60a559e85efd4e40877e660f651efdfd~c5_720x720.jpeg', coverMedium: 'https://p16-amd-va.tiktokcdn.com/img/tos-useast2a-v-2774/60a559e85efd4e40877e660f651efdfd~c5_200x200.jpeg', coverThumb: 'https://p16-amd-va.tiktokcdn.com/img/tos-useast2a-v-2774/60a559e85efd4e40877e660f651efdfd~c5_100x100.jpeg', duration: 60, id: '6899164801193216002', keyToken: '', numVids: '6733', original: 0, playUrl: 'https://sf16-ies-music-va.tiktokcdn.com/obj/tos-useast2a-ve-2774/f2e8a7defbd44b08858d6c6d04eefc97', private: 0, scheduleSearchTime: 0, title: '\\u041e\\u0431\\u0456\\u0439\\u043c\\u0438 - Remix'}) "
      ]
     },
     "execution_count": 23,
     "metadata": {},
     "output_type": "execute_result"
    }
   ],
   "source": [
    "# Quick test to make sure things are connected and working. This Okean Elzy song should show up twice.\n",
    "query = \"\"\"\n",
    "MATCH (s:song) WHERE s.title =~ '.*Обійми.*' RETURN s;\n",
    "\"\"\"\n",
    "graph.run(query)"
   ]
  },
  {
   "cell_type": "code",
   "execution_count": 6,
   "id": "13c2c856",
   "metadata": {},
   "outputs": [
    {
     "data": {
      "text/html": [
       "<table><tr><th>title</th><th>album</th></tr><tr><td style=\"text-align:left\">Не твоя війна</td><td style=\"text-align:left\">Без меж</td></tr><tr><td style=\"text-align:left\">Без бою</td><td style=\"text-align:left\">Gloria</td></tr><tr><td style=\"text-align:left\">Обійми</td><td style=\"text-align:left\">Земля</td></tr></table>"
      ],
      "text/plain": [
       " title         | album   \n",
       "---------------|---------\n",
       " Не твоя війна | Без меж \n",
       " Без бою       | Gloria  \n",
       " Обійми        | Земля   "
      ]
     },
     "execution_count": 6,
     "metadata": {},
     "output_type": "execute_result"
    }
   ],
   "source": [
    "# Search for Okean Elzy. This is the biggest Ukranian rock band. They sellout football stadiums in Ukraine.\n",
    "query = \"\"\"\n",
    "MATCH (s:song) WHERE s.authorName =~ '.*Океан Ельзи.*' \n",
    "RETURN s.title AS title, s.album AS album;\n",
    "\"\"\"\n",
    "graph.run(query)"
   ]
  },
  {
   "cell_type": "code",
   "execution_count": 7,
   "id": "75e51604",
   "metadata": {},
   "outputs": [
    {
     "data": {
      "text/html": [
       "(No data)"
      ],
      "text/plain": [
       "(No data)"
      ]
     },
     "execution_count": 7,
     "metadata": {},
     "output_type": "execute_result"
    }
   ],
   "source": [
    "# Search for Time & Glass. Время и Стекло are a poppy/dancy group.\n",
    "query = \"\"\"\n",
    "MATCH (s:song) WHERE s.authorName =~ '.*Время и Стекло.*' \n",
    "RETURN s.title AS title, s.album AS album;\n",
    "\"\"\"\n",
    "graph.run(query)"
   ]
  },
  {
   "cell_type": "code",
   "execution_count": 8,
   "id": "8e1cd337",
   "metadata": {},
   "outputs": [
    {
     "data": {
      "text/html": [
       "(No data)"
      ],
      "text/plain": [
       "(No data)"
      ]
     },
     "execution_count": 8,
     "metadata": {},
     "output_type": "execute_result"
    }
   ],
   "source": [
    "# Search for Time\n",
    "query = \"\"\"\n",
    "MATCH (s:song) WHERE s.authorName =~ '.*Время.*' \n",
    "RETURN s.title AS title, s.album AS album;\n",
    "\"\"\"\n",
    "graph.run(query)"
   ]
  },
  {
   "cell_type": "code",
   "execution_count": 8,
   "id": "2303826e",
   "metadata": {},
   "outputs": [
    {
     "data": {
      "text/html": [
       "(No data)"
      ],
      "text/plain": [
       "(No data)"
      ]
     },
     "execution_count": 8,
     "metadata": {},
     "output_type": "execute_result"
    }
   ],
   "source": [
    "# How about their song Тролль? Really, 187M views on youtube and squat here?\n",
    "query = \"\"\"\n",
    "MATCH (s:song) WHERE s.title =~ '.*Тролль.*' RETURN s;\n",
    "\"\"\"\n",
    "graph.run(query)"
   ]
  },
  {
   "cell_type": "code",
   "execution_count": 9,
   "id": "31fd0fef",
   "metadata": {},
   "outputs": [
    {
     "data": {
      "text/html": [
       "<table><tr><th>username</th><th>recommendCnt</th></tr><tr><td style=\"text-align:left\">maliciadorable</td><td style=\"text-align:right\">151</td></tr><tr><td style=\"text-align:left\">nicoenvrai</td><td style=\"text-align:right\">149</td></tr><tr><td style=\"text-align:left\">celinedept</td><td style=\"text-align:right\">148</td></tr></table>"
      ],
      "text/plain": [
       " username       | recommendCnt \n",
       "----------------|--------------\n",
       " maliciadorable |          151 \n",
       " nicoenvrai     |          149 \n",
       " celinedept     |          148 "
      ]
     },
     "execution_count": 9,
     "metadata": {},
     "output_type": "execute_result"
    }
   ],
   "source": [
    "query = \"\"\"\n",
    "MATCH (u:user)\n",
    "WITH u, SIZE(()-[:recommends]->(u)) as recommendCnt\n",
    "RETURN u.id AS username,\n",
    "       recommendCnt\n",
    "ORDER BY recommendCnt DESC\n",
    "\"\"\"\n",
    "graph.run(query)"
   ]
  },
  {
   "cell_type": "markdown",
   "id": "ab16dc21",
   "metadata": {},
   "source": [
    "## Centrality Measures\n",
    "<A HREF=\"https://neo4j-website.s3.eu-central-1.amazonaws.com/build/html/Algorithms/centrality/centrality.html\">Centrality Measures</A>"
   ]
  },
  {
   "cell_type": "markdown",
   "id": "684b67ea",
   "metadata": {},
   "source": [
    "First, install <A HREF=\"https://neo4j.com/labs/apoc/4.1/installation/\">APOC</A> and Graph Data Science Library in the Tik Tok database"
   ]
  },
  {
   "cell_type": "code",
   "execution_count": 10,
   "id": "ddfb187a",
   "metadata": {},
   "outputs": [
    {
     "data": {
      "text/html": [
       "<table><tr><th>nodes</th><th>relationships</th></tr><tr><td style=\"text-align:left\">[(_-8:song {constraints: [], indexes: [], name: &#039;song&#039;}), (_-5:video {constraints: [], indexes: [], name: &#039;video&#039;}), (_-7:tag {constraints: [], indexes: [], name: &#039;tag&#039;}), (_-6:user {constraints: [], indexes: [&#039;id&#039;], name: &#039;user&#039;})]</td><td style=\"text-align:left\">[(_-6)-[:author {}]-&gt;(_-8), (_-6)-[:author {}]-&gt;(_-5), (_-5)-[:has {}]-&gt;(_-8), (_-5)-[:has {}]-&gt;(_-7), (_-5)-[:recommends {}]-&gt;(_-6), (_-6)-[:recommends {}]-&gt;(_-5), (_-6)-[:recommends {}]-&gt;(_-6), (_-5)-[:recommends {}]-&gt;(_-5)]</td></tr></table>"
      ],
      "text/plain": [
       " nodes                                                                                                                                                                                                                                    | relationships                                                                                                                                                                                                                      \n",
       "------------------------------------------------------------------------------------------------------------------------------------------------------------------------------------------------------------------------------------------|------------------------------------------------------------------------------------------------------------------------------------------------------------------------------------------------------------------------------------\n",
       " [(_-8:song {constraints: [], indexes: [], name: 'song'}), (_-5:video {constraints: [], indexes: [], name: 'video'}), (_-7:tag {constraints: [], indexes: [], name: 'tag'}), (_-6:user {constraints: [], indexes: ['id'], name: 'user'})] | [(_-6)-[:author {}]->(_-8), (_-6)-[:author {}]->(_-5), (_-5)-[:has {}]->(_-8), (_-5)-[:has {}]->(_-7), (_-5)-[:recommends {}]->(_-6), (_-6)-[:recommends {}]->(_-5), (_-6)-[:recommends {}]->(_-6), (_-5)-[:recommends {}]->(_-5)] "
      ]
     },
     "execution_count": 10,
     "metadata": {},
     "output_type": "execute_result"
    }
   ],
   "source": [
    "# Show graph structure, works better in Neo4j browser\n",
    "query = \"\"\"\n",
    "CALL db.schema.visualization()\n",
    "\"\"\"\n",
    "graph.run(query)"
   ]
  },
  {
   "cell_type": "code",
   "execution_count": 12,
   "id": "31e4530e",
   "metadata": {},
   "outputs": [],
   "source": [
    "# ok already did this, doesn't want to be created again\n",
    "# java.lang.IllegalArgumentException: A graph with name 'users' already exists\n",
    "query = \"\"\"\n",
    "CALL gds.graph.create('users','user','recommends');\n",
    "\"\"\"\n",
    "#graph.run(query)"
   ]
  },
  {
   "cell_type": "code",
   "execution_count": 13,
   "id": "7ad0241b",
   "metadata": {},
   "outputs": [
    {
     "data": {
      "text/html": [
       "<div>\n",
       "<style scoped>\n",
       "    .dataframe tbody tr th:only-of-type {\n",
       "        vertical-align: middle;\n",
       "    }\n",
       "\n",
       "    .dataframe tbody tr th {\n",
       "        vertical-align: top;\n",
       "    }\n",
       "\n",
       "    .dataframe thead th {\n",
       "        text-align: right;\n",
       "    }\n",
       "</style>\n",
       "<table border=\"1\" class=\"dataframe\">\n",
       "  <thead>\n",
       "    <tr style=\"text-align: right;\">\n",
       "      <th></th>\n",
       "      <th>name</th>\n",
       "      <th>centralScore</th>\n",
       "    </tr>\n",
       "  </thead>\n",
       "  <tbody>\n",
       "    <tr>\n",
       "      <th>0</th>\n",
       "      <td>poppucatt</td>\n",
       "      <td>1.0</td>\n",
       "    </tr>\n",
       "    <tr>\n",
       "      <th>1</th>\n",
       "      <td>dnscnst5</td>\n",
       "      <td>1.0</td>\n",
       "    </tr>\n",
       "    <tr>\n",
       "      <th>2</th>\n",
       "      <td>wass_officiel31</td>\n",
       "      <td>1.0</td>\n",
       "    </tr>\n",
       "    <tr>\n",
       "      <th>3</th>\n",
       "      <td>thelondonersstory</td>\n",
       "      <td>1.0</td>\n",
       "    </tr>\n",
       "    <tr>\n",
       "      <th>4</th>\n",
       "      <td>romania.go</td>\n",
       "      <td>1.0</td>\n",
       "    </tr>\n",
       "    <tr>\n",
       "      <th>5</th>\n",
       "      <td>mari.fil</td>\n",
       "      <td>1.0</td>\n",
       "    </tr>\n",
       "    <tr>\n",
       "      <th>6</th>\n",
       "      <td>bxtterf1y2</td>\n",
       "      <td>1.0</td>\n",
       "    </tr>\n",
       "    <tr>\n",
       "      <th>7</th>\n",
       "      <td>ripachu</td>\n",
       "      <td>1.0</td>\n",
       "    </tr>\n",
       "    <tr>\n",
       "      <th>8</th>\n",
       "      <td>james_cardwell04</td>\n",
       "      <td>1.0</td>\n",
       "    </tr>\n",
       "    <tr>\n",
       "      <th>9</th>\n",
       "      <td>casperisdope</td>\n",
       "      <td>1.0</td>\n",
       "    </tr>\n",
       "  </tbody>\n",
       "</table>\n",
       "</div>"
      ],
      "text/plain": [
       "                name  centralScore\n",
       "0          poppucatt           1.0\n",
       "1           dnscnst5           1.0\n",
       "2    wass_officiel31           1.0\n",
       "3  thelondonersstory           1.0\n",
       "4         romania.go           1.0\n",
       "5           mari.fil           1.0\n",
       "6         bxtterf1y2           1.0\n",
       "7            ripachu           1.0\n",
       "8   james_cardwell04           1.0\n",
       "9       casperisdope           1.0"
      ]
     },
     "execution_count": 13,
     "metadata": {},
     "output_type": "execute_result"
    }
   ],
   "source": [
    "# This takes a little bit to run, apparently this graph/database is large\n",
    "# Counties with highest centrality score\n",
    "query = \"\"\"\n",
    "CALL gds.alpha.closeness.stream({\n",
    "    nodeProjection: \"user\",\n",
    "    relationshipProjection: \"recommends\"\n",
    "})\n",
    "YIELD nodeId, centrality\n",
    "RETURN gds.util.asNode(nodeId).id AS name, \n",
    "       centrality AS centralScore\n",
    "ORDER BY centrality DESC;\n",
    "\"\"\"\n",
    "result=graph.run(query)\n",
    "centrality = result.to_data_frame()\n",
    "centrality.head(10)"
   ]
  },
  {
   "cell_type": "code",
   "execution_count": null,
   "id": "1893516e",
   "metadata": {},
   "outputs": [],
   "source": [
    "#centrality.to_csv(\"centrality.csv\", index=False)"
   ]
  },
  {
   "cell_type": "code",
   "execution_count": 14,
   "id": "122231cb",
   "metadata": {},
   "outputs": [
    {
     "data": {
      "text/html": [
       "<div>\n",
       "<style scoped>\n",
       "    .dataframe tbody tr th:only-of-type {\n",
       "        vertical-align: middle;\n",
       "    }\n",
       "\n",
       "    .dataframe tbody tr th {\n",
       "        vertical-align: top;\n",
       "    }\n",
       "\n",
       "    .dataframe thead th {\n",
       "        text-align: right;\n",
       "    }\n",
       "</style>\n",
       "<table border=\"1\" class=\"dataframe\">\n",
       "  <thead>\n",
       "    <tr style=\"text-align: right;\">\n",
       "      <th></th>\n",
       "      <th>name</th>\n",
       "      <th>gds.util.asNode(nodeId).followerCount</th>\n",
       "      <th>btwnScore</th>\n",
       "    </tr>\n",
       "  </thead>\n",
       "  <tbody>\n",
       "    <tr>\n",
       "      <th>0</th>\n",
       "      <td>thehistorylegends</td>\n",
       "      <td>610500.0</td>\n",
       "      <td>3.508975e+07</td>\n",
       "    </tr>\n",
       "    <tr>\n",
       "      <th>1</th>\n",
       "      <td>themagicmatt</td>\n",
       "      <td>4200000.0</td>\n",
       "      <td>2.766751e+07</td>\n",
       "    </tr>\n",
       "    <tr>\n",
       "      <th>2</th>\n",
       "      <td>jonathan.blu</td>\n",
       "      <td>NaN</td>\n",
       "      <td>2.690732e+07</td>\n",
       "    </tr>\n",
       "    <tr>\n",
       "      <th>3</th>\n",
       "      <td>kingkhieu</td>\n",
       "      <td>NaN</td>\n",
       "      <td>2.670178e+07</td>\n",
       "    </tr>\n",
       "    <tr>\n",
       "      <th>4</th>\n",
       "      <td>rarestworld</td>\n",
       "      <td>1600000.0</td>\n",
       "      <td>2.056806e+07</td>\n",
       "    </tr>\n",
       "    <tr>\n",
       "      <th>5</th>\n",
       "      <td>danrhodes</td>\n",
       "      <td>NaN</td>\n",
       "      <td>1.976106e+07</td>\n",
       "    </tr>\n",
       "    <tr>\n",
       "      <th>6</th>\n",
       "      <td>twiceofnice</td>\n",
       "      <td>12200000.0</td>\n",
       "      <td>1.838829e+07</td>\n",
       "    </tr>\n",
       "    <tr>\n",
       "      <th>7</th>\n",
       "      <td>manchurektriplets</td>\n",
       "      <td>11600000.0</td>\n",
       "      <td>1.813186e+07</td>\n",
       "    </tr>\n",
       "    <tr>\n",
       "      <th>8</th>\n",
       "      <td>dobretwins</td>\n",
       "      <td>35400000.0</td>\n",
       "      <td>1.557718e+07</td>\n",
       "    </tr>\n",
       "    <tr>\n",
       "      <th>9</th>\n",
       "      <td>twinsfromrussia</td>\n",
       "      <td>10800000.0</td>\n",
       "      <td>1.552047e+07</td>\n",
       "    </tr>\n",
       "  </tbody>\n",
       "</table>\n",
       "</div>"
      ],
      "text/plain": [
       "                name  gds.util.asNode(nodeId).followerCount     btwnScore\n",
       "0  thehistorylegends                               610500.0  3.508975e+07\n",
       "1       themagicmatt                              4200000.0  2.766751e+07\n",
       "2       jonathan.blu                                    NaN  2.690732e+07\n",
       "3          kingkhieu                                    NaN  2.670178e+07\n",
       "4        rarestworld                              1600000.0  2.056806e+07\n",
       "5          danrhodes                                    NaN  1.976106e+07\n",
       "6        twiceofnice                             12200000.0  1.838829e+07\n",
       "7  manchurektriplets                             11600000.0  1.813186e+07\n",
       "8         dobretwins                             35400000.0  1.557718e+07\n",
       "9    twinsfromrussia                             10800000.0  1.552047e+07"
      ]
     },
     "execution_count": 14,
     "metadata": {},
     "output_type": "execute_result"
    }
   ],
   "source": [
    "# Counties with highest betweeness score\n",
    "query = \"\"\"\n",
    "CALL gds.betweenness.stream({\n",
    "    nodeProjection: \"user\",\n",
    "    relationshipProjection: \"recommends\"\n",
    "})\n",
    "YIELD nodeId, score\n",
    "RETURN gds.util.asNode(nodeId).id AS name,\n",
    "       gds.util.asNode(nodeId).followerCount,\n",
    "       score AS btwnScore\n",
    "ORDER BY score DESC;\n",
    "\"\"\"\n",
    "result=graph.run(query)\n",
    "betweeness = result.to_data_frame()\n",
    "betweeness.head(10)"
   ]
  },
  {
   "cell_type": "code",
   "execution_count": null,
   "id": "c37b2089",
   "metadata": {},
   "outputs": [],
   "source": [
    "#betweeness.to_csv(\"betweeness.csv\", index=False)"
   ]
  },
  {
   "cell_type": "code",
   "execution_count": 6,
   "id": "c953ac17",
   "metadata": {},
   "outputs": [
    {
     "data": {
      "text/html": [
       "<div>\n",
       "<style scoped>\n",
       "    .dataframe tbody tr th:only-of-type {\n",
       "        vertical-align: middle;\n",
       "    }\n",
       "\n",
       "    .dataframe tbody tr th {\n",
       "        vertical-align: top;\n",
       "    }\n",
       "\n",
       "    .dataframe thead th {\n",
       "        text-align: right;\n",
       "    }\n",
       "</style>\n",
       "<table border=\"1\" class=\"dataframe\">\n",
       "  <thead>\n",
       "    <tr style=\"text-align: right;\">\n",
       "      <th></th>\n",
       "      <th>name</th>\n",
       "      <th>followerCount</th>\n",
       "      <th>pageRank</th>\n",
       "    </tr>\n",
       "  </thead>\n",
       "  <tbody>\n",
       "    <tr>\n",
       "      <th>0</th>\n",
       "      <td>maliciadorable</td>\n",
       "      <td>3000000.0</td>\n",
       "      <td>0.924330</td>\n",
       "    </tr>\n",
       "    <tr>\n",
       "      <th>1</th>\n",
       "      <td>nicoenvrai</td>\n",
       "      <td>1200000.0</td>\n",
       "      <td>0.917667</td>\n",
       "    </tr>\n",
       "    <tr>\n",
       "      <th>2</th>\n",
       "      <td>celinedept</td>\n",
       "      <td>12400000.0</td>\n",
       "      <td>0.912277</td>\n",
       "    </tr>\n",
       "    <tr>\n",
       "      <th>3</th>\n",
       "      <td>badfifii</td>\n",
       "      <td>1100000.0</td>\n",
       "      <td>0.896603</td>\n",
       "    </tr>\n",
       "    <tr>\n",
       "      <th>4</th>\n",
       "      <td>maudevandervorst</td>\n",
       "      <td>488700.0</td>\n",
       "      <td>0.873413</td>\n",
       "    </tr>\n",
       "    <tr>\n",
       "      <th>5</th>\n",
       "      <td>gardianhasani</td>\n",
       "      <td>1800000.0</td>\n",
       "      <td>0.873274</td>\n",
       "    </tr>\n",
       "    <tr>\n",
       "      <th>6</th>\n",
       "      <td>helena_la_blonde</td>\n",
       "      <td>896400.0</td>\n",
       "      <td>0.869802</td>\n",
       "    </tr>\n",
       "    <tr>\n",
       "      <th>7</th>\n",
       "      <td>sarah_bossuwe</td>\n",
       "      <td>612700.0</td>\n",
       "      <td>0.869145</td>\n",
       "    </tr>\n",
       "    <tr>\n",
       "      <th>8</th>\n",
       "      <td>iamshadeandrew</td>\n",
       "      <td>1300000.0</td>\n",
       "      <td>0.869141</td>\n",
       "    </tr>\n",
       "    <tr>\n",
       "      <th>9</th>\n",
       "      <td>7futsal</td>\n",
       "      <td>2200000.0</td>\n",
       "      <td>0.853890</td>\n",
       "    </tr>\n",
       "  </tbody>\n",
       "</table>\n",
       "</div>"
      ],
      "text/plain": [
       "               name  followerCount  pageRank\n",
       "0    maliciadorable      3000000.0  0.924330\n",
       "1        nicoenvrai      1200000.0  0.917667\n",
       "2        celinedept     12400000.0  0.912277\n",
       "3          badfifii      1100000.0  0.896603\n",
       "4  maudevandervorst       488700.0  0.873413\n",
       "5     gardianhasani      1800000.0  0.873274\n",
       "6  helena_la_blonde       896400.0  0.869802\n",
       "7     sarah_bossuwe       612700.0  0.869145\n",
       "8    iamshadeandrew      1300000.0  0.869141\n",
       "9           7futsal      2200000.0  0.853890"
      ]
     },
     "execution_count": 6,
     "metadata": {},
     "output_type": "execute_result"
    }
   ],
   "source": [
    "# Counties with highest page rank score\n",
    "query = \"\"\"\n",
    "CALL gds.pageRank.stream({  \n",
    "    nodeProjection: \"user\",\n",
    "    relationshipProjection: \"recommends\",  \n",
    "    maxIterations: 50,  dampingFactor: 0.85})\n",
    "YIELD nodeId, score\n",
    "RETURN gds.util.asNode(nodeId).id AS name, \n",
    "       gds.util.asNode(nodeId).followerCount AS followerCount,\n",
    "       score AS pageRank\n",
    "ORDER BY score DESC;\n",
    "\"\"\"\n",
    "result=graph.run(query)\n",
    "pagerank = result.to_data_frame()\n",
    "pagerank.head(10)"
   ]
  },
  {
   "cell_type": "code",
   "execution_count": null,
   "id": "e156bd83",
   "metadata": {},
   "outputs": [],
   "source": [
    "#pagerank.to_csv(\"pagerank.csv\", index=False)"
   ]
  },
  {
   "cell_type": "markdown",
   "id": "1a4973d3",
   "metadata": {},
   "source": [
    "## Community Detection\n",
    "<A HREF=\"https://neo4j-website.s3.eu-central-1.amazonaws.com/build/html/Algorithms/community/community.html\">Class Notes on Community Detection</A>"
   ]
  },
  {
   "cell_type": "markdown",
   "id": "961d75a7",
   "metadata": {},
   "source": [
    "<A HREF=\"https://neo4j.com/docs/graph-data-science/current/algorithms/louvain/\">Cypher Louvain Modularity</A><BR>"
   ]
  },
  {
   "cell_type": "code",
   "execution_count": null,
   "id": "7f77e1f5",
   "metadata": {},
   "outputs": [],
   "source": [
    "# Louvain Modularity \n",
    "# Louvain quantifies how well a node is assigned to a group by looking at the density of connections within \n",
    "# a cluster in comparison to an average or random sample\n",
    "query = \"\"\"\n",
    "CALL gds.louvain.stream({\n",
    "  nodeProjection: \"County\",\n",
    "  relationshipProjection: \"COMMUTES\",\n",
    "  includeIntermediateCommunities: true\n",
    "})\n",
    "YIELD nodeId, communityId, intermediateCommunityIds\n",
    "RETURN gds.util.asNode(nodeId).geoid AS geoid, \n",
    "       gds.util.asNode(nodeId).county AS county,\n",
    "       gds.util.asNode(nodeId).state AS state,\n",
    "       communityId, \n",
    "       intermediateCommunityIds\n",
    "ORDER BY communityId ASC;\n",
    "\"\"\"\n",
    "result=graph.run(query)\n",
    "louvainMod = result.to_data_frame()\n",
    "louvainMod.head(10)"
   ]
  },
  {
   "cell_type": "code",
   "execution_count": null,
   "id": "391fcf8d",
   "metadata": {},
   "outputs": [],
   "source": [
    "#louvainMod.to_csv(\"louvainmod.csv\", index=False)"
   ]
  },
  {
   "cell_type": "code",
   "execution_count": 17,
   "id": "81cb8386",
   "metadata": {},
   "outputs": [
    {
     "data": {
      "text/html": [
       "(No data)"
      ],
      "text/plain": [
       "(No data)"
      ]
     },
     "execution_count": 17,
     "metadata": {},
     "output_type": "execute_result"
    }
   ],
   "source": [
    "# Let's see if we can find anything on the white house briefing of the top30 TikTok users\n",
    "# https://www.washingtonpost.com/technology/2022/03/11/tik-tok-ukraine-white-house/\n",
    "# \"National Security Council staffers and White House press secretary Jen Psaki briefed the influencers\"\n",
    "query = \"\"\"\n",
    "MATCH (u:user)-[:author]->(v:video)-[:has]->(t:tag)\n",
    "WHERE t.title =~ '.*Psaki.*'\n",
    "RETURN u.id\n",
    "\"\"\"\n",
    "graph.run(query)"
   ]
  },
  {
   "cell_type": "code",
   "execution_count": 19,
   "id": "49e0bea5",
   "metadata": {},
   "outputs": [
    {
     "data": {
      "text/html": [
       "<table><tr><th>userName</th></tr><tr><td style=\"text-align:left\">cbsnews</td></tr></table>"
      ],
      "text/plain": [
       " userName \n",
       "----------\n",
       " cbsnews  "
      ]
     },
     "execution_count": 19,
     "metadata": {},
     "output_type": "execute_result"
    }
   ],
   "source": [
    "query = \"\"\"\n",
    "MATCH (u:user)-[:author]->(v:video)\n",
    "WHERE v.desc =~ '.*Psaki.*'\n",
    "RETURN u.id AS userName\n",
    "\"\"\"\n",
    "graph.run(query)"
   ]
  },
  {
   "cell_type": "code",
   "execution_count": 30,
   "id": "50926a20",
   "metadata": {},
   "outputs": [
    {
     "data": {
      "text/html": [
       "<table><tr><th>userName</th><th>videoDescription</th><th>playCount</th></tr><tr><td style=\"text-align:left\">bikini.bottom.news</td><td style=\"text-align:left\">President Biden says there will be an upcoming food shortage #news #fyp #foryou #biden #presidentbiden #nato #belgium #natosummit #ukraine #russia #food #foodshortage #war #bikinibottomnews #invasion #unitedstates #usa #europe #sanctions</td><td style=\"text-align:right\">9200000</td></tr><tr><td style=\"text-align:left\">nbcnews</td><td style=\"text-align:left\">Pres. #Biden: “When Americans and #Russia start shooting at one another, we’re in a very different world than we’ve ever been in.” @NBC Nightly News</td><td style=\"text-align:right\">33300000</td></tr><tr><td style=\"text-align:left\">philippine_military</td><td style=\"text-align:left\">President Biden Send Warships In West Philippine Sea#foryou#fyp#foryoupage#usnavy#us#usa#america#navy#philippines#military#joebiden#nato#trend #viral</td><td style=\"text-align:right\">4700000</td></tr></table>"
      ],
      "text/plain": [
       " userName            | videoDescription                                                                                                                                                                                                                              | playCount \n",
       "---------------------|-----------------------------------------------------------------------------------------------------------------------------------------------------------------------------------------------------------------------------------------------|-----------\n",
       " bikini.bottom.news  | President Biden says there will be an upcoming food shortage #news #fyp #foryou #biden #presidentbiden #nato #belgium #natosummit #ukraine #russia #food #foodshortage #war #bikinibottomnews #invasion #unitedstates #usa #europe #sanctions |   9200000 \n",
       " nbcnews             | Pres. #Biden: “When Americans and #Russia start shooting at one another, we’re in a very different world than we’ve ever been in.” @NBC Nightly News                                                                                          |  33300000 \n",
       " philippine_military | President Biden Send Warships In West Philippine Sea#foryou#fyp#foryoupage#usnavy#us#usa#america#navy#philippines#military#joebiden#nato#trend #viral                                                                                         |   4700000 "
      ]
     },
     "execution_count": 30,
     "metadata": {},
     "output_type": "execute_result"
    }
   ],
   "source": [
    "query = \"\"\"\n",
    "MATCH (u:user)-[:author]->(v:video)\n",
    "WHERE v.desc =~ '.*Biden.*'\n",
    "RETURN u.id AS userName,\n",
    "       v.desc AS videoDescription,\n",
    "       v.playCount AS playCount;\n",
    "\"\"\"\n",
    "graph.run(query)"
   ]
  },
  {
   "cell_type": "code",
   "execution_count": 7,
   "id": "2208625b",
   "metadata": {},
   "outputs": [
    {
     "data": {
      "text/html": [
       "(No data)"
      ],
      "text/plain": [
       "(No data)"
      ]
     },
     "execution_count": 7,
     "metadata": {},
     "output_type": "execute_result"
    }
   ],
   "source": [
    "query = \"\"\"\n",
    "MATCH (u:user)-[:author]->(v:video)\n",
    "WHERE v.desc =~ '.*Croo.*'\n",
    "RETURN u.id AS userName,\n",
    "       v.desc AS videoDescription;\n",
    "\"\"\"\n",
    "graph.run(query)"
   ]
  },
  {
   "cell_type": "code",
   "execution_count": null,
   "id": "566c4a4b",
   "metadata": {},
   "outputs": [],
   "source": [
    "# Wow, I just don't know how to tik tok"
   ]
  },
  {
   "cell_type": "code",
   "execution_count": 34,
   "id": "af425b1f",
   "metadata": {},
   "outputs": [
    {
     "data": {
      "text/html": [
       "<table><tr><th>userName</th><th>videoDescription</th><th>playCount</th><th>count(v)</th></tr><tr><td style=\"text-align:left\">luxy_capi3</td><td style=\"text-align:left\">@Capi_revolution calme t’a copine</td><td style=\"text-align:right\">6400000</td><td style=\"text-align:right\">1</td></tr><tr><td style=\"text-align:left\">sarah.accart</td><td style=\"text-align:left\">10 fois bien meilleure 🥰🥰 #caprisun #sirop #revolution</td><td style=\"text-align:right\">1100000</td><td style=\"text-align:right\">1</td></tr><tr><td style=\"text-align:left\">golf.daddy</td><td style=\"text-align:left\">Reply to @frankieirontagerbar  the most revolutionary product in divot science ⛳️ #golf #golftiktok #fyp #golfbf</td><td style=\"text-align:right\">7200000</td><td style=\"text-align:right\">1</td></tr></table>"
      ],
      "text/plain": [
       " userName     | videoDescription                                                                                                 | playCount | count(v) \n",
       "--------------|------------------------------------------------------------------------------------------------------------------|-----------|----------\n",
       " luxy_capi3   | @Capi_revolution calme t’a copine                                                                                |   6400000 |        1 \n",
       " sarah.accart | 10 fois bien meilleure 🥰🥰 #caprisun #sirop #revolution                                                           |   1100000 |        1 \n",
       " golf.daddy   | Reply to @frankieirontagerbar  the most revolutionary product in divot science ⛳️ #golf #golftiktok #fyp #golfbf |   7200000 |        1 "
      ]
     },
     "execution_count": 34,
     "metadata": {},
     "output_type": "execute_result"
    }
   ],
   "source": [
    "query = \"\"\"\n",
    "MATCH (u:user)-[:author]->(v:video)\n",
    "WHERE v.desc =~ '.*revolution.*'\n",
    "RETURN u.id AS userName,\n",
    "       v.desc AS videoDescription,\n",
    "       v.playCount AS playCount,\n",
    "       count(v);\n",
    "\"\"\"\n",
    "graph.run(query)"
   ]
  },
  {
   "cell_type": "code",
   "execution_count": 52,
   "id": "f0608b74",
   "metadata": {},
   "outputs": [
    {
     "data": {
      "text/html": [
       "<table><tr><th>userName</th><th>videoDescription</th><th>playCount</th><th>sticker</th></tr><tr><td style=\"text-align:left\">foryouukrainee</td><td style=\"text-align:left\">#ukraine #viralvideo #army #russia #fypシ</td><td style=\"text-align:right\">48800000</td><td style=\"text-align:left\">🇺🇦STOP WAR 🇷🇺</td></tr><tr><td style=\"text-align:left\">stopthwar</td><td style=\"text-align:left\">STOP THE WAR 🇺🇦🙏🏻 #ukraine #russia #usa #nato #joebiden #biden #vladimirputin #putin #zielinski #war #soldiers</td><td style=\"text-align:right\">38600000</td><td style=\"text-align:left\">UKRAINE LIVE 😱🇺🇦</td></tr><tr><td style=\"text-align:left\">valerisssh</td><td style=\"text-align:left\">Putin, I wait u in Chernihiv 🥰🥰🥰🥰 #ukraine #stopwar</td><td style=\"text-align:right\">21900000</td><td style=\"text-align:left\">pov: you are live in Ukraine💙🇺🇦</td></tr></table>"
      ],
      "text/plain": [
       " userName       | videoDescription                                                                                               | playCount | sticker                         \n",
       "----------------|----------------------------------------------------------------------------------------------------------------|-----------|---------------------------------\n",
       " foryouukrainee | #ukraine #viralvideo #army #russia #fypシ                                                                       |  48800000 | 🇺🇦STOP WAR 🇷🇺                   \n",
       " stopthwar      | STOP THE WAR 🇺🇦🙏🏻 #ukraine #russia #usa #nato #joebiden #biden #vladimirputin #putin #zielinski #war #soldiers |  38600000 | UKRAINE LIVE 😱🇺🇦                \n",
       " valerisssh     | Putin, I wait u in Chernihiv 🥰🥰🥰🥰 #ukraine #stopwar                                                            |  21900000 | pov: you are live in Ukraine💙🇺🇦 "
      ]
     },
     "execution_count": 52,
     "metadata": {},
     "output_type": "execute_result"
    }
   ],
   "source": [
    "query = \"\"\"\n",
    "MATCH (u:user)-[a:author]->(v:video)\n",
    "WHERE v.desc =~ '.*ukraine.*' AND\n",
    "      v.stickerText =~ '.*🇺🇦.*'\n",
    "RETURN u.id AS userName,\n",
    "       v.desc AS videoDescription,\n",
    "       v.playCount AS playCount,\n",
    "       v.stickerText AS sticker\n",
    "ORDER BY v.playCount DESC;\n",
    "\"\"\"\n",
    "graph.run(query)"
   ]
  },
  {
   "cell_type": "code",
   "execution_count": 44,
   "id": "66b73ae9",
   "metadata": {},
   "outputs": [
    {
     "data": {
      "text/html": [
       "<table><tr><th>count(v)</th></tr><tr><td style=\"text-align:right\">346</td></tr></table>"
      ],
      "text/plain": [
       " count(v) \n",
       "----------\n",
       "      346 "
      ]
     },
     "execution_count": 44,
     "metadata": {},
     "output_type": "execute_result"
    }
   ],
   "source": [
    "query = \"\"\"\n",
    "MATCH (u:user)-[a:author]->(v:video)\n",
    "WHERE v.desc =~ '.*slava.*'\n",
    "RETURN count(v);\n",
    "\"\"\"\n",
    "graph.run(query)"
   ]
  },
  {
   "cell_type": "code",
   "execution_count": 50,
   "id": "52f79dca",
   "metadata": {},
   "outputs": [
    {
     "data": {
      "text/html": [
       "<table><tr><th>name</th><th>numberVids</th></tr><tr><td style=\"text-align:left\">laceyjanebrown</td><td style=\"text-align:right\">1</td></tr><tr><td style=\"text-align:left\">howtobepositive</td><td style=\"text-align:right\">1</td></tr><tr><td style=\"text-align:left\">slouxxie</td><td style=\"text-align:right\">1</td></tr></table>"
      ],
      "text/plain": [
       " name            | numberVids \n",
       "-----------------|------------\n",
       " laceyjanebrown  |          1 \n",
       " howtobepositive |          1 \n",
       " slouxxie        |          1 "
      ]
     },
     "execution_count": 50,
     "metadata": {},
     "output_type": "execute_result"
    }
   ],
   "source": [
    "query = \"\"\"\n",
    "MATCH (u:user)-[a:author]->(v:video)\n",
    "WHERE v.desc =~ '.*slava.*'\n",
    "RETURN u.id AS name,\n",
    "       count(a) AS numberVids\n",
    "ORDER BY numberVids;\n",
    "\"\"\"\n",
    "graph.run(query)"
   ]
  },
  {
   "cell_type": "code",
   "execution_count": 41,
   "id": "e89ee567",
   "metadata": {},
   "outputs": [
    {
     "data": {
      "text/html": [
       "<table><tr><th>userName</th><th>videoDescription</th><th>playCount</th><th>count(*)</th></tr><tr><td style=\"text-align:left\">howtobepositive</td><td style=\"text-align:left\">Thousands of people gathered together in Toronto to show support to Ukraine 🇺🇦  #standwithukraine #slavaukraini #slavaukraine #supportukraine</td><td style=\"text-align:right\">1900000</td><td style=\"text-align:right\">1</td></tr><tr><td style=\"text-align:left\">shmeebit</td><td style=\"text-align:left\">Reply to @momxietysociety  #greenscreen #sayless #presidentzelensky #slavaukraini🇺🇦 #ukraine #prayforukraine</td><td style=\"text-align:right\">1800000</td><td style=\"text-align:right\">1</td></tr><tr><td style=\"text-align:left\">morriganamber</td><td style=\"text-align:left\">Based on true events 👏👏🔥🔥#2022#ukrainewar#stoprussia#stopputin#ukraineinvasion#saveukraine#slavaukraini #war#warship#ww3#navy#military#usa#europe#nato#EU#UK#au#battleship#rocket#history#warhistory#politics</td><td style=\"text-align:right\">83300</td><td style=\"text-align:right\">1</td></tr></table>"
      ],
      "text/plain": [
       " userName        | videoDescription                                                                                                                                                                                              | playCount | count(*) \n",
       "-----------------|---------------------------------------------------------------------------------------------------------------------------------------------------------------------------------------------------------------|-----------|----------\n",
       " howtobepositive | Thousands of people gathered together in Toronto to show support to Ukraine 🇺🇦  #standwithukraine #slavaukraini #slavaukraine #supportukraine                                                                 |   1900000 |        1 \n",
       " shmeebit        | Reply to @momxietysociety  #greenscreen #sayless #presidentzelensky #slavaukraini🇺🇦 #ukraine #prayforukraine                                                                                                  |   1800000 |        1 \n",
       " morriganamber   | Based on true events 👏👏🔥🔥#2022#ukrainewar#stoprussia#stopputin#ukraineinvasion#saveukraine#slavaukraini #war#warship#ww3#navy#military#usa#europe#nato#EU#UK#au#battleship#rocket#history#warhistory#politics |     83300 |        1 "
      ]
     },
     "execution_count": 41,
     "metadata": {},
     "output_type": "execute_result"
    }
   ],
   "source": [
    "query = \"\"\"\n",
    "MATCH (u:user)-[a:author]->(v:video)\n",
    "WHERE v.desc =~ '.*slavaukraini.*'\n",
    "RETURN u.id AS userName,\n",
    "       v.desc AS videoDescription,\n",
    "       v.playCount AS playCount,\n",
    "       count(*)\n",
    "ORDER BY v.playCount DESC;\n",
    "\"\"\"\n",
    "graph.run(query)"
   ]
  },
  {
   "cell_type": "code",
   "execution_count": 59,
   "id": "572a52b2",
   "metadata": {},
   "outputs": [],
   "source": [
    "# NLP in Neo4j https://neo4j.com/labs/apoc/4.2/nlp/\n",
    "# Aw man, you gotta sign up for AWS or Azure and they want credit cards, boooo!!!!\n",
    "# Can't I just do some NLP? Why isn't this built in to Neo4j?\n",
    "# I want to grab videos with description or stickers in Ukranian, I don't need conglomerate services!"
   ]
  },
  {
   "cell_type": "code",
   "execution_count": null,
   "id": "e422af8b",
   "metadata": {},
   "outputs": [],
   "source": [
    "# hmmm maybe this will work?\n",
    "# https://www.awseducate.com/Registration?apptype=student&courseview=true#INFO-Student\n",
    "# Nope, nevermind"
   ]
  },
  {
   "cell_type": "code",
   "execution_count": 16,
   "id": "3634caea",
   "metadata": {},
   "outputs": [
    {
     "name": "stdout",
     "output_type": "stream",
     "text": [
      "[uk:0.9999979424399521]\n"
     ]
    }
   ],
   "source": [
    "sentence = \"За чим стоять усі ці люди в центрі Києва?! #україна #ukraine #київ #укрпошта #російськийкорабель #kyiv\"\n",
    "print(detect_langs(sentence))"
   ]
  },
  {
   "cell_type": "code",
   "execution_count": 17,
   "id": "6ecb862e",
   "metadata": {},
   "outputs": [
    {
     "name": "stdout",
     "output_type": "stream",
     "text": [
      "[en:0.9999948973920949]\n"
     ]
    }
   ],
   "source": [
    "sentence = \"Ukrainian band who are serving as soldiers reach out to Ed Sheeran #Antytila #ukraine #ukrainewar #russia #bbcnews #fundraiser #uk\"\n",
    "print(detect_langs(sentence))"
   ]
  },
  {
   "cell_type": "code",
   "execution_count": 9,
   "id": "4731ee10",
   "metadata": {},
   "outputs": [
    {
     "data": {
      "text/html": [
       "<div>\n",
       "<style scoped>\n",
       "    .dataframe tbody tr th:only-of-type {\n",
       "        vertical-align: middle;\n",
       "    }\n",
       "\n",
       "    .dataframe tbody tr th {\n",
       "        vertical-align: top;\n",
       "    }\n",
       "\n",
       "    .dataframe thead th {\n",
       "        text-align: right;\n",
       "    }\n",
       "</style>\n",
       "<table border=\"1\" class=\"dataframe\">\n",
       "  <thead>\n",
       "    <tr style=\"text-align: right;\">\n",
       "      <th></th>\n",
       "      <th>description</th>\n",
       "    </tr>\n",
       "  </thead>\n",
       "  <tbody>\n",
       "    <tr>\n",
       "      <th>0</th>\n",
       "      <td>Чи добре їдять українські воїни? Ми попросили ...</td>\n",
       "    </tr>\n",
       "    <tr>\n",
       "      <th>1</th>\n",
       "      <td>The Syrians signing up to fight for Russia #uk...</td>\n",
       "    </tr>\n",
       "    <tr>\n",
       "      <th>2</th>\n",
       "      <td>Putin hails war with concert and heroism lesso...</td>\n",
       "    </tr>\n",
       "    <tr>\n",
       "      <th>3</th>\n",
       "      <td>Children with cancer from Ukraine being helped...</td>\n",
       "    </tr>\n",
       "    <tr>\n",
       "      <th>4</th>\n",
       "      <td>What is life in Ukraine like under Russian occ...</td>\n",
       "    </tr>\n",
       "  </tbody>\n",
       "</table>\n",
       "</div>"
      ],
      "text/plain": [
       "                                         description\n",
       "0  Чи добре їдять українські воїни? Ми попросили ...\n",
       "1  The Syrians signing up to fight for Russia #uk...\n",
       "2  Putin hails war with concert and heroism lesso...\n",
       "3  Children with cancer from Ukraine being helped...\n",
       "4  What is life in Ukraine like under Russian occ..."
      ]
     },
     "execution_count": 9,
     "metadata": {},
     "output_type": "execute_result"
    }
   ],
   "source": [
    "query = \"\"\"\n",
    "MATCH (u:user)-[a:author]->(v:video)\n",
    "WHERE u.id =~ '.*bbcnews.*' and\n",
    "      v.desc =~ '.*ukraine.*'\n",
    "RETURN v.desc AS description;\n",
    "\"\"\"\n",
    "result = pd.DataFrame(graph.run(query).data())\n",
    "result.head()"
   ]
  },
  {
   "cell_type": "code",
   "execution_count": 10,
   "id": "b8f6dd21",
   "metadata": {},
   "outputs": [
    {
     "name": "stdout",
     "output_type": "stream",
     "text": [
      "18 english messages and, 24 ukranian messages\n"
     ]
    }
   ],
   "source": [
    "ukcount=0\n",
    "encount=0\n",
    "for sentence in result['description']:\n",
    "    lang = detect(sentence)\n",
    "    if lang=='uk':\n",
    "        ukcount+=1\n",
    "    if lang=='en':\n",
    "        encount+=1\n",
    "print(encount,\"english messages and,\", ukcount,\"ukranian messages\")"
   ]
  },
  {
   "cell_type": "code",
   "execution_count": 11,
   "id": "0ada756b",
   "metadata": {},
   "outputs": [
    {
     "name": "stdout",
     "output_type": "stream",
     "text": [
      "0.0  -  The Syrians signing up to fight for Russia #ukrainewar #ukraine #russia #bbcnews\n",
      "0.0  -  Putin hails war with concert and heroism lessons #russia #ukraine #ukrainewar #bbcnews\n",
      "0.0  -  Children with cancer from Ukraine being helped in Polish hotel #ukrainewar #poland #ukraine #russia #bbcnews\n",
      "0.0  -  What is life in Ukraine like under Russian occupation? #ukraine #ukrainewar #russia #bbcnews\n",
      "0.0  -  Ukrainian band who are serving as soldiers reach out to Ed Sheeran #Antytila #ukraine #ukrainewar #russia #bbcnews #fundraiser #uk\n",
      "0.0  -  Protesters in Ukraine appear to force Russian truck to reverse#ukraine #ukrainewar #russia #bbcnews\n",
      "0.0  -  A statue representing friendship between Ukraine and Russia has been toppled in Kyiv. #ukrainewar #russia #ukraine #bbcnews\n",
      "0.0  -  Russian missile kills baby Kira, her mother and her grandmother - her father Yuriy Glodan talks to BBC News #ukrainewar #russia #bbcnews #ukraine\n",
      "0.0  -  Ukrainian drones monitoring Russian troops #ukraine #russia #ukrainewar #ukraina #bbcnews\n",
      "0.0  -  Anna records a video diary for us to show what it’s like to leave Ukraine #ukraine #russia #ukrainewar #bbcnews\n",
      "0.0  -  A superyacht linked to Russian billionaire Roman Abramovich has been met by a protest in Turkey #ukrainewar #ukraina #russia #ukraine🇺🇦 #bbcnews\n",
      "0.0  -  The Ukrainian women sharing their memories of life before the war #ukrainewar #russia #ukraine #bbcnews\n",
      "-0.233  -  How we spot fake news from the war in Ukraine on social media #ukraine #russia #ukrainewar #bbcnews\n",
      "0.0  -  The BBC’s Quentin Sommerville follows Ukrainian troops holding the front line as Russia pounds Kharkiv #ukraine #ukrainewar #russia #bbcnews\n",
      "0.5  -  Entertaining children sheltering in a Kharkiv metro #ukraine #russia #ukrainewar #bbcnews\n",
      "0.0  -  The moment a Russian missile hit a government building in Ukraine #ukrainewar #ukraine🇺🇦 #russia #bbcnews\n",
      "0.0  -  One month of war in Ukraine #russia #ukraine #ukraina #ukrainewar\n",
      "0.0  -  A Russian missile has hit a shopping centre in Kyiv, Ukraine. #ukrainewar #russia #ukraine #bbcnews\n"
     ]
    }
   ],
   "source": [
    "# polarity score is a float within the range [-1.0, 1.0]\n",
    "# <0 - negative, sad, >0 - positive, happy\n",
    "for sentence in result['description']:\n",
    "    lang = detect(sentence)\n",
    "    if lang=='en':\n",
    "        blob = TextBlob(sentence)\n",
    "        print(round(blob.sentiment.polarity,3),\" - \",blob)"
   ]
  },
  {
   "cell_type": "code",
   "execution_count": 12,
   "id": "4499bbe0",
   "metadata": {},
   "outputs": [
    {
     "name": "stdout",
     "output_type": "stream",
     "text": [
      "0.00\n",
      "0.00\n",
      "0.00\n",
      "0.00\n",
      "0.00\n",
      "0.00\n",
      "0.00\n",
      "0.00\n",
      "0.00\n",
      "0.00\n",
      "0.00\n",
      "0.00\n",
      "0.53\n",
      "0.00\n",
      "0.70\n",
      "0.00\n",
      "0.00\n",
      "0.00\n"
     ]
    }
   ],
   "source": [
    "# subjectivity is a float within the range [0.0, 1.0] where 0.0 is very objective and 1.0 is very subjective\n",
    "for sentence in result['description']:\n",
    "    lang = detect(sentence)\n",
    "    if lang=='en':\n",
    "        blob = TextBlob(sentence)\n",
    "        print('%.2f'%blob.sentiment.subjectivity)"
   ]
  },
  {
   "cell_type": "code",
   "execution_count": 18,
   "id": "8451d1c3",
   "metadata": {},
   "outputs": [
    {
     "name": "stdout",
     "output_type": "stream",
     "text": [
      "neg = 0.191 --neu = 0.809 --pos = 0.0 --compound = -0.3818 --[The Syrians signing up to fight for Russia #ukrainewar #ukraine #russia #bbcnews]\n",
      "\n",
      "neg = 0.22 --neu = 0.565 --pos = 0.215 --compound = -0.0258 --[Putin hails war with concert and heroism lessons #russia #ukraine #ukrainewar #bbcnews]\n",
      "\n",
      "neg = 0.239 --neu = 0.761 --pos = 0.0 --compound = -0.6597 --[Children with cancer from Ukraine being helped in Polish hotel #ukrainewar #poland #ukraine #russia #bbcnews]\n",
      "\n",
      "neg = 0.0 --neu = 0.828 --pos = 0.172 --compound = 0.3612 --[What is life in Ukraine like under Russian occupation? #ukraine #ukrainewar #russia #bbcnews]\n",
      "\n",
      "neg = 0.0 --neu = 0.942 --pos = 0.058 --compound = 0.0258 --[Ukrainian band who are serving as soldiers reach out to Ed Sheeran #Antytila #ukraine #ukrainewar #russia #bbcnews #fundraiser #uk]\n",
      "\n",
      "neg = 0.137 --neu = 0.863 --pos = 0.0 --compound = -0.2263 --[Protesters in Ukraine appear to force Russian truck to reverse#ukraine #ukrainewar #russia #bbcnews]\n",
      "\n",
      "neg = 0.0 --neu = 0.838 --pos = 0.162 --compound = 0.4404 --[A statue representing friendship between Ukraine and Russia has been toppled in Kyiv. #ukrainewar #russia #ukraine #bbcnews]\n",
      "\n",
      "neg = 0.143 --neu = 0.857 --pos = 0.0 --compound = -0.5423 --[Russian missile kills baby Kira, her mother and her grandmother - her father Yuriy Glodan talks to BBC News #ukrainewar #russia #bbcnews #ukraine]\n",
      "\n",
      "neg = 0.0 --neu = 1.0 --pos = 0.0 --compound = 0.0 --[Ukrainian drones monitoring Russian troops #ukraine #russia #ukrainewar #ukraina #bbcnews]\n",
      "\n",
      "neg = 0.061 --neu = 0.812 --pos = 0.127 --compound = 0.3182 --[Anna records a video diary for us to show what it’s like to leave Ukraine #ukraine #russia #ukrainewar #bbcnews]\n",
      "\n",
      "neg = 0.1 --neu = 0.9 --pos = 0.0 --compound = -0.25 --[A superyacht linked to Russian billionaire Roman Abramovich has been met by a protest in Turkey #ukrainewar #ukraina #russia #ukraine🇺🇦 #bbcnews]\n",
      "\n",
      "neg = 0.198 --neu = 0.66 --pos = 0.142 --compound = -0.2732 --[The Ukrainian women sharing their memories of life before the war #ukrainewar #russia #ukraine #bbcnews]\n",
      "\n",
      "neg = 0.318 --neu = 0.682 --pos = 0.0 --compound = -0.7906 --[How we spot fake news from the war in Ukraine on social media #ukraine #russia #ukrainewar #bbcnews]\n",
      "\n",
      "neg = 0.0 --neu = 1.0 --pos = 0.0 --compound = 0.0 --[The BBC’s Quentin Sommerville follows Ukrainian troops holding the front line as Russia pounds Kharkiv #ukraine #ukrainewar #russia #bbcnews]\n",
      "\n",
      "neg = 0.0 --neu = 0.756 --pos = 0.244 --compound = 0.4404 --[Entertaining children sheltering in a Kharkiv metro #ukraine #russia #ukrainewar #bbcnews]\n",
      "\n",
      "neg = 0.0 --neu = 1.0 --pos = 0.0 --compound = 0.0 --[The moment a Russian missile hit a government building in Ukraine #ukrainewar #ukraine🇺🇦 #russia #bbcnews]\n",
      "\n",
      "neg = 0.302 --neu = 0.698 --pos = 0.0 --compound = -0.5994 --[One month of war in Ukraine #russia #ukraine #ukraina #ukrainewar]\n",
      "\n",
      "neg = 0.0 --neu = 1.0 --pos = 0.0 --compound = 0.0 --[A Russian missile has hit a shopping centre in Kyiv, Ukraine. #ukrainewar #russia #ukraine #bbcnews]\n",
      "\n"
     ]
    }
   ],
   "source": [
    "# try NLTK's vader SentimentIntensityAnalyzer\n",
    "# https://www.nltk.org/api/nltk.sentiment.vader.html?highlight=sentimentintensityanalyzer\n",
    "# grabbed some code from https://www.programcreek.com/python/example/100005/nltk.sentiment.vader.SentimentIntensityAnalyzer\n",
    "# note: compound is a normalized sum of neg, neu, pos\n",
    "sai = SentimentIntensityAnalyzer()\n",
    "for sentence in result['description']:\n",
    "    lang = detect(sentence)\n",
    "    if lang=='en':\n",
    "        kvp = sai.polarity_scores(sentence)\n",
    "        for k in kvp:\n",
    "            print('{} = {} '.format(k, kvp[k]), end='--')\n",
    "        print('[{}]'.format(sentence))\n",
    "        print() "
   ]
  },
  {
   "cell_type": "code",
   "execution_count": 76,
   "id": "a302545d",
   "metadata": {},
   "outputs": [
    {
     "name": "stdout",
     "output_type": "stream",
     "text": [
      "abcnews returned no results with ukraine in video description\n",
      "\n",
      "bbcnews has mean sentiment score of -0.12 from 18 videos\n",
      "\n",
      "latimes returned no results with ukraine in video description\n",
      "\n",
      "cbsnews has mean sentiment score of -0.237 from 7 videos\n",
      "\n",
      "nbcnews returned no results with ukraine in video description\n",
      "\n",
      "skynews has mean sentiment score of 0.083 from 2 videos\n",
      "\n",
      "nypost returned no results with ukraine in video description\n",
      "\n"
     ]
    }
   ],
   "source": [
    "sai = SentimentIntensityAnalyzer()\n",
    "news=['abcnews','bbcnews','latimes','cbsnews','nbcnews','skynews','nypost']\n",
    "for new in news:\n",
    "    score=[]\n",
    "    query = \"\"\"\n",
    "    MATCH (u:user)-[a:author]->(v:video)\n",
    "    WHERE u.id =~ '%s' and\n",
    "          v.desc =~ '.*ukraine.*'\n",
    "    RETURN v.desc AS description; \n",
    "    \"\"\" % new\n",
    "    # the % new inserts value of new where the %s is in the WHERE statement\n",
    "    result=pd.DataFrame(graph.run(query).data())\n",
    "    if (len(result)!=0):\n",
    "        for sentence in result['description']:\n",
    "            lang = detect(sentence)\n",
    "            if lang=='en':\n",
    "                kvp = sai.polarity_scores(sentence)\n",
    "                score.append(kvp['compound'])\n",
    "        print(new,'has mean sentiment score of', round(np.mean(score),3),'from', len(score),'videos')\n",
    "        print()\n",
    "    else:\n",
    "        print(new,'returned no results with ukraine in video description')\n",
    "        print()"
   ]
  },
  {
   "cell_type": "code",
   "execution_count": null,
   "id": "bd2f74a1",
   "metadata": {},
   "outputs": [],
   "source": []
  }
 ],
 "metadata": {
  "kernelspec": {
   "display_name": "Python 3 (ipykernel)",
   "language": "python",
   "name": "python3"
  },
  "language_info": {
   "codemirror_mode": {
    "name": "ipython",
    "version": 3
   },
   "file_extension": ".py",
   "mimetype": "text/x-python",
   "name": "python",
   "nbconvert_exporter": "python",
   "pygments_lexer": "ipython3",
   "version": "3.9.2"
  }
 },
 "nbformat": 4,
 "nbformat_minor": 5
}
