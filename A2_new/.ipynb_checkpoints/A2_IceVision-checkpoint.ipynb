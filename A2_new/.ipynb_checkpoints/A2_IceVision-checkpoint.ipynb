{
 "cells": [
  {
   "cell_type": "markdown",
   "id": "e24f542c",
   "metadata": {},
   "source": [
    "Trying to get anything to work working from https://colab.research.google.com/github/airctic/icevision/blob/master/notebooks/getting_started_object_detection.ipynb#scrollTo=BU-plt-ufSNs"
   ]
  },
  {
   "cell_type": "code",
   "execution_count": null,
   "id": "4cbaab91",
   "metadata": {},
   "outputs": [],
   "source": [
    "# https://airctic.com/0.8.1/install/\n",
    "# Important - We currently only support Linux/MacOS installations, sorry windows folks, maybe on colab or AWS\n",
    "# !pip install icevision[all]"
   ]
  },
  {
   "cell_type": "code",
   "execution_count": null,
   "id": "d8dbd117",
   "metadata": {},
   "outputs": [],
   "source": [
    "# Torch - Torchvision - IceVision - IceData - MMDetection - YOLOv5 - EfficientDet Installation\n",
    "#!wget https://raw.githubusercontent.com/airctic/icevision/master/icevision_install.sh\n",
    "# oh yay, another 2GB copy of pytorch on my computer, fantastic, can these programs share?\n",
    "# Choose your installation target: cuda11 or cuda10 or cpu\n",
    "#!bash icevision_install.sh cuda11\n",
    "# I don't even have a gpu in this box\n",
    "# Maybe I should use colab"
   ]
  },
  {
   "cell_type": "code",
   "execution_count": 1,
   "id": "a05e3f6d",
   "metadata": {},
   "outputs": [
    {
     "ename": "ModuleNotFoundError",
     "evalue": "No module named '_tkinter'",
     "output_type": "error",
     "traceback": [
      "\u001b[0;31m---------------------------------------------------------------------------\u001b[0m",
      "\u001b[0;31mModuleNotFoundError\u001b[0m                       Traceback (most recent call last)",
      "Input \u001b[0;32mIn [1]\u001b[0m, in \u001b[0;36m<cell line: 1>\u001b[0;34m()\u001b[0m\n\u001b[0;32m----> 1\u001b[0m \u001b[38;5;28;01mimport\u001b[39;00m \u001b[38;5;21;01mtkinter\u001b[39;00m\n",
      "File \u001b[0;32m/usr/local/lib/python3.9/tkinter/__init__.py:37\u001b[0m, in \u001b[0;36m<module>\u001b[0;34m\u001b[0m\n\u001b[1;32m     34\u001b[0m \u001b[38;5;28;01mimport\u001b[39;00m \u001b[38;5;21;01msys\u001b[39;00m\n\u001b[1;32m     35\u001b[0m \u001b[38;5;28;01mimport\u001b[39;00m \u001b[38;5;21;01mtypes\u001b[39;00m\n\u001b[0;32m---> 37\u001b[0m \u001b[38;5;28;01mimport\u001b[39;00m \u001b[38;5;21;01m_tkinter\u001b[39;00m \u001b[38;5;66;03m# If this fails your Python may not be configured for Tk\u001b[39;00m\n\u001b[1;32m     38\u001b[0m TclError \u001b[38;5;241m=\u001b[39m _tkinter\u001b[38;5;241m.\u001b[39mTclError\n\u001b[1;32m     39\u001b[0m \u001b[38;5;28;01mfrom\u001b[39;00m \u001b[38;5;21;01mtkinter\u001b[39;00m\u001b[38;5;21;01m.\u001b[39;00m\u001b[38;5;21;01mconstants\u001b[39;00m \u001b[38;5;28;01mimport\u001b[39;00m \u001b[38;5;241m*\u001b[39m\n",
      "\u001b[0;31mModuleNotFoundError\u001b[0m: No module named '_tkinter'"
     ]
    }
   ],
   "source": [
    "import tkinter\n",
    "# oh man I'm tired"
   ]
  },
  {
   "cell_type": "code",
   "execution_count": null,
   "id": "8be335b4",
   "metadata": {},
   "outputs": [],
   "source": [
    "from icevision.all import *\n",
    "from pathlib import Path # for making our own Path object\n",
    "#import mmdet"
   ]
  },
  {
   "cell_type": "code",
   "execution_count": null,
   "id": "c3578fcc",
   "metadata": {},
   "outputs": [],
   "source": [
    "# path is a pathlib Path object, create it with Path()\n",
    "data_dir = Path('./') \n",
    "data_dir"
   ]
  },
  {
   "cell_type": "code",
   "execution_count": null,
   "id": "9b9a70d1",
   "metadata": {},
   "outputs": [],
   "source": [
    "# (annotations_dir=data_dir / \"odFridgeObjects/annotations\", images_dir=data_dir / \"odFridgeObjects/images\")\n",
    "parser = parsers.VOCBBoxParser(annotations_dir=data_dir / \"./train/annotations\", \n",
    "                               images_dir=data_dir / \"./train/train\")"
   ]
  },
  {
   "cell_type": "code",
   "execution_count": null,
   "id": "bbb9547e",
   "metadata": {},
   "outputs": [],
   "source": [
    "# Parse annotations to create records\n",
    "train_records, valid_records = parser.parse()\n",
    "parser.class_map\n",
    "# should show 2 green bars with 100% and list of classes <ClassMap: {'background': 0, 'pool': 1}>\n",
    "# ok that's better"
   ]
  },
  {
   "cell_type": "code",
   "execution_count": null,
   "id": "775fafa4",
   "metadata": {},
   "outputs": [],
   "source": [
    "# Transforms\n",
    "# size is set to 384 because EfficientDet requires its inputs to be divisible by 128\n",
    "image_size = 384\n",
    "train_tfms = tfms.A.Adapter([*tfms.A.aug_tfms(size=image_size, presize=512), tfms.A.Normalize()])\n",
    "valid_tfms = tfms.A.Adapter([*tfms.A.resize_and_pad(image_size), tfms.A.Normalize()])"
   ]
  },
  {
   "cell_type": "code",
   "execution_count": null,
   "id": "26fb5ff1",
   "metadata": {},
   "outputs": [],
   "source": [
    "# Datasets\n",
    "train_ds = Dataset(train_records, train_tfms)\n",
    "valid_ds = Dataset(valid_records, valid_tfms)"
   ]
  },
  {
   "cell_type": "code",
   "execution_count": null,
   "id": "753a4c73",
   "metadata": {},
   "outputs": [],
   "source": [
    "# Show an element of the train_ds with augmentation transformations applied\n",
    "samples = [train_ds[0] for _ in range(3)]\n",
    "show_samples(samples, ncols=3)"
   ]
  },
  {
   "cell_type": "code",
   "execution_count": null,
   "id": "2332d3b8",
   "metadata": {},
   "outputs": [],
   "source": [
    "# Just change the value of selection to try another model\n",
    "\n",
    "selection = 0\n",
    "\n",
    "extra_args = {}\n",
    "\n",
    "if selection == 0:\n",
    "  model_type = models.mmdet.vfnet\n",
    "  backbone = model_type.backbones.resnet50_fpn_mstrain_2x\n",
    "\n",
    "if selection == 1:\n",
    "  model_type = models.mmdet.retinanet\n",
    "  backbone = model_type.backbones.resnet50_fpn_1x\n",
    "  # extra_args['cfg_options'] = { \n",
    "  #   'model.bbox_head.loss_bbox.loss_weight': 2,\n",
    "  #   'model.bbox_head.loss_cls.loss_weight': 0.8,\n",
    "  #    }\n",
    "\n",
    "if selection == 2:\n",
    "  model_type = models.mmdet.faster_rcnn\n",
    "  backbone = model_type.backbones.resnet101_fpn_2x\n",
    "  # extra_args['cfg_options'] = { \n",
    "  #   'model.roi_head.bbox_head.loss_bbox.loss_weight': 2,\n",
    "  #   'model.roi_head.bbox_head.loss_cls.loss_weight': 0.8,\n",
    "  #    }\n",
    "\n",
    "if selection == 3:\n",
    "  model_type = models.mmdet.ssd\n",
    "  backbone = model_type.backbones.ssd300\n",
    "\n",
    "if selection == 4:\n",
    "  model_type = models.mmdet.yolox\n",
    "  backbone = model_type.backbones.yolox_s_8x8\n",
    "\n",
    "if selection == 5:\n",
    "  model_type = models.mmdet.yolof\n",
    "  backbone = model_type.backbones.yolof_r50_c5_8x8_1x_coco\n",
    "\n",
    "if selection == 6:\n",
    "  model_type = models.mmdet.detr\n",
    "  backbone = model_type.backbones.r50_8x2_150e_coco\n",
    "\n",
    "if selection == 7:\n",
    "  model_type = models.mmdet.deformable_detr\n",
    "  backbone = model_type.backbones.twostage_refine_r50_16x2_50e_coco\n",
    "\n",
    "if selection == 8:\n",
    "  model_type = models.mmdet.fsaf\n",
    "  backbone = model_type.backbones.x101_64x4d_fpn_1x_coco\n",
    "\n",
    "if selection == 9:\n",
    "  model_type = models.mmdet.sabl\n",
    "  backbone = model_type.backbones.r101_fpn_gn_2x_ms_640_800_coco\n",
    "\n",
    "if selection == 10:\n",
    "  model_type = models.mmdet.centripetalnet\n",
    "  backbone = model_type.backbones.hourglass104_mstest_16x6_210e_coco\n",
    "\n",
    "elif selection == 11:\n",
    "  # The Retinanet model is also implemented in the torchvision library\n",
    "  model_type = models.torchvision.retinanet\n",
    "  backbone = model_type.backbones.resnet50_fpn\n",
    "\n",
    "elif selection == 12:\n",
    "  model_type = models.ross.efficientdet\n",
    "  backbone = model_type.backbones.tf_lite0\n",
    "  # The efficientdet model requires an img_size parameter\n",
    "  extra_args['img_size'] = image_size\n",
    "\n",
    "elif selection == 13:\n",
    "  model_type = models.ultralytics.yolov5\n",
    "  backbone = model_type.backbones.small\n",
    "  # The yolov5 model requires an img_size parameter\n",
    "  extra_args['img_size'] = image_size\n",
    "\n",
    "model_type, backbone, extra_args"
   ]
  },
  {
   "cell_type": "code",
   "execution_count": null,
   "id": "961153ef",
   "metadata": {},
   "outputs": [],
   "source": []
  }
 ],
 "metadata": {
  "kernelspec": {
   "display_name": "Python 3 (ipykernel)",
   "language": "python",
   "name": "python3"
  },
  "language_info": {
   "codemirror_mode": {
    "name": "ipython",
    "version": 3
   },
   "file_extension": ".py",
   "mimetype": "text/x-python",
   "name": "python",
   "nbconvert_exporter": "python",
   "pygments_lexer": "ipython3",
   "version": "3.9.10"
  }
 },
 "nbformat": 4,
 "nbformat_minor": 5
}
